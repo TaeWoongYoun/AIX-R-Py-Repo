{
  "nbformat": 4,
  "nbformat_minor": 0,
  "metadata": {
    "colab": {
      "provenance": []
    },
    "kernelspec": {
      "name": "python3",
      "display_name": "Python 3"
    },
    "language_info": {
      "name": "python"
    }
  },
  "cells": [
    {
      "cell_type": "code",
      "execution_count": 1,
      "metadata": {
        "id": "61pGmIQPoTb9"
      },
      "outputs": [],
      "source": [
        "A=\"Hello\""
      ]
    },
    {
      "cell_type": "code",
      "source": [
        "B='Hello'"
      ],
      "metadata": {
        "id": "-dGsNl46qbqH"
      },
      "execution_count": 2,
      "outputs": []
    },
    {
      "cell_type": "code",
      "source": [
        "A==B"
      ],
      "metadata": {
        "colab": {
          "base_uri": "https://localhost:8080/"
        },
        "id": "PPOKWPOPqihE",
        "outputId": "073016c2-40ca-46b4-9b28-642dd4640c17"
      },
      "execution_count": 3,
      "outputs": [
        {
          "output_type": "execute_result",
          "data": {
            "text/plain": [
              "True"
            ]
          },
          "metadata": {},
          "execution_count": 3
        }
      ]
    },
    {
      "cell_type": "code",
      "source": [
        "int(\"A\")"
      ],
      "metadata": {
        "colab": {
          "base_uri": "https://localhost:8080/",
          "height": 147
        },
        "id": "TKHQl5PRqtmj",
        "outputId": "7ced0047-608f-4d1d-f2bf-e364a72abb51"
      },
      "execution_count": 4,
      "outputs": [
        {
          "output_type": "error",
          "ename": "ValueError",
          "evalue": "invalid literal for int() with base 10: 'A'",
          "traceback": [
            "\u001b[0;31m---------------------------------------------------------------------------\u001b[0m",
            "\u001b[0;31mValueError\u001b[0m                                Traceback (most recent call last)",
            "\u001b[0;32m/tmp/ipython-input-849184300.py\u001b[0m in \u001b[0;36m<cell line: 0>\u001b[0;34m()\u001b[0m\n\u001b[0;32m----> 1\u001b[0;31m \u001b[0mint\u001b[0m\u001b[0;34m(\u001b[0m\u001b[0;34m\"A\"\u001b[0m\u001b[0;34m)\u001b[0m\u001b[0;34m\u001b[0m\u001b[0;34m\u001b[0m\u001b[0m\n\u001b[0m",
            "\u001b[0;31mValueError\u001b[0m: invalid literal for int() with base 10: 'A'"
          ]
        }
      ]
    },
    {
      "cell_type": "code",
      "source": [
        "int(1.1)"
      ],
      "metadata": {
        "colab": {
          "base_uri": "https://localhost:8080/"
        },
        "id": "_dTKoxahqxOD",
        "outputId": "7b576b9d-7954-4892-a1d4-1fab3bc333f2"
      },
      "execution_count": 5,
      "outputs": [
        {
          "output_type": "execute_result",
          "data": {
            "text/plain": [
              "1"
            ]
          },
          "metadata": {},
          "execution_count": 5
        }
      ]
    },
    {
      "cell_type": "code",
      "source": [
        " type(\"Hello World\")\n",
        " type(True) # 약속어, #-> 커멘트"
      ],
      "metadata": {
        "colab": {
          "base_uri": "https://localhost:8080/"
        },
        "id": "ohsMMTJsrTUI",
        "outputId": "e824a0ca-d5f6-4d11-c74c-471b8debf11f"
      },
      "execution_count": 7,
      "outputs": [
        {
          "output_type": "execute_result",
          "data": {
            "text/plain": [
              "bool"
            ]
          },
          "metadata": {},
          "execution_count": 7
        }
      ]
    },
    {
      "cell_type": "code",
      "source": [
        "# 몫을 구한다\n",
        "50//12\n",
        "50//10"
      ],
      "metadata": {
        "colab": {
          "base_uri": "https://localhost:8080/"
        },
        "id": "tCKhGs7-sIJg",
        "outputId": "46348344-65c8-4267-fa64-7221492d35ee"
      },
      "execution_count": 10,
      "outputs": [
        {
          "output_type": "execute_result",
          "data": {
            "text/plain": [
              "5"
            ]
          },
          "metadata": {},
          "execution_count": 10
        }
      ]
    },
    {
      "cell_type": "code",
      "source": [
        "5**2 # 5^2, 제곱\n",
        "5**3"
      ],
      "metadata": {
        "colab": {
          "base_uri": "https://localhost:8080/"
        },
        "id": "NmE3BS9usNcs",
        "outputId": "7c26d77f-6304-4cc6-9bf7-7f96cecc2ffe"
      },
      "execution_count": 13,
      "outputs": [
        {
          "output_type": "execute_result",
          "data": {
            "text/plain": [
              "125"
            ]
          },
          "metadata": {},
          "execution_count": 13
        }
      ]
    },
    {
      "cell_type": "code",
      "source": [
        " # minute 을  hour로 바꾸는 연산\n",
        "minute2=215\n",
        "hour=minute2/60\n",
        "print(hour)"
      ],
      "metadata": {
        "colab": {
          "base_uri": "https://localhost:8080/"
        },
        "id": "NVSGUdMasWvV",
        "outputId": "5f8dd229-f552-4d98-f10e-a39b21eb40ee"
      },
      "execution_count": 24,
      "outputs": [
        {
          "output_type": "stream",
          "name": "stdout",
          "text": [
            "3.5833333333333335\n"
          ]
        }
      ]
    },
    {
      "cell_type": "code",
      "source": [
        "A"
      ],
      "metadata": {
        "colab": {
          "base_uri": "https://localhost:8080/",
          "height": 35
        },
        "id": "2Rrq-7Katai8",
        "outputId": "bdc75d44-e613-4ef0-e0c5-0c1e63c0204d"
      },
      "execution_count": 25,
      "outputs": [
        {
          "output_type": "execute_result",
          "data": {
            "text/plain": [
              "'Hello'"
            ],
            "application/vnd.google.colaboratory.intrinsic+json": {
              "type": "string"
            }
          },
          "metadata": {},
          "execution_count": 25
        }
      ]
    },
    {
      "cell_type": "code",
      "source": [
        "# 파이썬 순서는 0에서 부터 시작\n",
        "A[1] # 문자열이란 것은 문자들의 모임 (순서가 있는 모임)\n",
        "A[0]\n",
        "A[4]"
      ],
      "metadata": {
        "colab": {
          "base_uri": "https://localhost:8080/",
          "height": 35
        },
        "id": "9sOnUh3uuc6h",
        "outputId": "b0b463c3-e924-4fef-fc2f-e9b0d1826011"
      },
      "execution_count": 28,
      "outputs": [
        {
          "output_type": "execute_result",
          "data": {
            "text/plain": [
              "'o'"
            ],
            "application/vnd.google.colaboratory.intrinsic+json": {
              "type": "string"
            }
          },
          "metadata": {},
          "execution_count": 28
        }
      ]
    },
    {
      "cell_type": "code",
      "source": [
        "AA=\"Hello World\" # 공백열도 순서에 들어간다\n",
        "AA[6]\n",
        "AA.upper() # 연산이 가능, 메소드 적용이 가능\n",
        "type(minute)\n",
        "minute.upper() # 자료형에 따라서 쓰는 연산이 다르다"
      ],
      "metadata": {
        "colab": {
          "base_uri": "https://localhost:8080/",
          "height": 184
        },
        "id": "oBrz1hG0u4eG",
        "outputId": "635d376a-21f7-4530-8e1b-311f3e1734a0"
      },
      "execution_count": 33,
      "outputs": [
        {
          "output_type": "error",
          "ename": "AttributeError",
          "evalue": "'int' object has no attribute 'upper'",
          "traceback": [
            "\u001b[0;31m---------------------------------------------------------------------------\u001b[0m",
            "\u001b[0;31mAttributeError\u001b[0m                            Traceback (most recent call last)",
            "\u001b[0;32m/tmp/ipython-input-132363019.py\u001b[0m in \u001b[0;36m<cell line: 0>\u001b[0;34m()\u001b[0m\n\u001b[1;32m      3\u001b[0m \u001b[0mAA\u001b[0m\u001b[0;34m.\u001b[0m\u001b[0mupper\u001b[0m\u001b[0;34m(\u001b[0m\u001b[0;34m)\u001b[0m \u001b[0;31m# 연산이 가능, 메소드 적용이 가능\u001b[0m\u001b[0;34m\u001b[0m\u001b[0;34m\u001b[0m\u001b[0m\n\u001b[1;32m      4\u001b[0m \u001b[0mtype\u001b[0m\u001b[0;34m(\u001b[0m\u001b[0mminute\u001b[0m\u001b[0;34m)\u001b[0m\u001b[0;34m\u001b[0m\u001b[0;34m\u001b[0m\u001b[0m\n\u001b[0;32m----> 5\u001b[0;31m \u001b[0mminute\u001b[0m\u001b[0;34m.\u001b[0m\u001b[0mupper\u001b[0m\u001b[0;34m(\u001b[0m\u001b[0;34m)\u001b[0m\u001b[0;34m\u001b[0m\u001b[0;34m\u001b[0m\u001b[0m\n\u001b[0m",
            "\u001b[0;31mAttributeError\u001b[0m: 'int' object has no attribute 'upper'"
          ]
        }
      ]
    },
    {
      "cell_type": "code",
      "source": [
        "AA[-1] # Reverse Indexing 가능, R은 없음\n",
        "AA[-2]"
      ],
      "metadata": {
        "colab": {
          "base_uri": "https://localhost:8080/",
          "height": 35
        },
        "id": "tJClmzCMv6YP",
        "outputId": "45dc98d1-df89-4da4-b456-3c4cf267cd31"
      },
      "execution_count": 35,
      "outputs": [
        {
          "output_type": "execute_result",
          "data": {
            "text/plain": [
              "'l'"
            ],
            "application/vnd.google.colaboratory.intrinsic+json": {
              "type": "string"
            }
          },
          "metadata": {},
          "execution_count": 35
        }
      ]
    },
    {
      "cell_type": "code",
      "source": [
        "AA[1:3] # 파이썬 인덱싱의 특징: 마지막이 안들어간다 특징\n",
        "len(AA) # 순열(sequence)의 길이를 표시"
      ],
      "metadata": {
        "colab": {
          "base_uri": "https://localhost:8080/"
        },
        "id": "RQ1hlFiewVco",
        "outputId": "7b794c5a-5db8-492d-95ae-15b1051d4c64"
      },
      "execution_count": 37,
      "outputs": [
        {
          "output_type": "execute_result",
          "data": {
            "text/plain": [
              "11"
            ]
          },
          "metadata": {},
          "execution_count": 37
        }
      ]
    },
    {
      "cell_type": "code",
      "source": [
        "# 변수 'name'에 \"MICHAEL JORDAN\" 문자열을 할당\n",
        "name = \"MICHAEL JORDAN\"\n",
        "\n",
        "# 변수 'player'에 \"is the best basketball player\" 문자열을 할당\n",
        "player = \"is the best basketball player\"\n",
        "\n",
        "# 'name'과 'player'를 합쳐서 'statement' 변수에 저장\n",
        "# 공백을 추가하여 두 문자열 사이에 간격을 줌 (->문자열끼리 더하기는 붙여서 늘리기다)\n",
        "statement = name + \" \" + player\n",
        "\n",
        "# 결과를 출력\n",
        "print(statement)\n"
      ],
      "metadata": {
        "colab": {
          "base_uri": "https://localhost:8080/"
        },
        "id": "gTM8k2LFw9Rn",
        "outputId": "33366a4b-9563-4915-9d19-af60003f1ecb"
      },
      "execution_count": 38,
      "outputs": [
        {
          "output_type": "stream",
          "name": "stdout",
          "text": [
            "MICHAEL JORDAN is the best basketball player\n"
          ]
        }
      ]
    },
    {
      "cell_type": "code",
      "source": [
        "fruit=\"banana\"\n",
        "fruit[:3]\n",
        "fruit[3:]\n",
        "AA[0]=\"J\""
      ],
      "metadata": {
        "colab": {
          "base_uri": "https://localhost:8080/",
          "height": 184
        },
        "id": "7pN-XVMYxZbL",
        "outputId": "1db3f267-1d26-4c4a-929e-7fff874b6e48"
      },
      "execution_count": 43,
      "outputs": [
        {
          "output_type": "error",
          "ename": "TypeError",
          "evalue": "'str' object does not support item assignment",
          "traceback": [
            "\u001b[0;31m---------------------------------------------------------------------------\u001b[0m",
            "\u001b[0;31mTypeError\u001b[0m                                 Traceback (most recent call last)",
            "\u001b[0;32m/tmp/ipython-input-3507180537.py\u001b[0m in \u001b[0;36m<cell line: 0>\u001b[0;34m()\u001b[0m\n\u001b[1;32m      2\u001b[0m \u001b[0mfruit\u001b[0m\u001b[0;34m[\u001b[0m\u001b[0;34m:\u001b[0m\u001b[0;36m3\u001b[0m\u001b[0;34m]\u001b[0m\u001b[0;34m\u001b[0m\u001b[0;34m\u001b[0m\u001b[0m\n\u001b[1;32m      3\u001b[0m \u001b[0mfruit\u001b[0m\u001b[0;34m[\u001b[0m\u001b[0;36m3\u001b[0m\u001b[0;34m:\u001b[0m\u001b[0;34m]\u001b[0m\u001b[0;34m\u001b[0m\u001b[0;34m\u001b[0m\u001b[0m\n\u001b[0;32m----> 4\u001b[0;31m \u001b[0mAA\u001b[0m\u001b[0;34m[\u001b[0m\u001b[0;36m0\u001b[0m\u001b[0;34m]\u001b[0m\u001b[0;34m=\u001b[0m\u001b[0;34m\"J\"\u001b[0m\u001b[0;34m\u001b[0m\u001b[0;34m\u001b[0m\u001b[0m\n\u001b[0m",
            "\u001b[0;31mTypeError\u001b[0m: 'str' object does not support item assignment"
          ]
        }
      ]
    },
    {
      "cell_type": "code",
      "source": [
        "\"ana\" in \"banana\"\n",
        "dir(fruit)"
      ],
      "metadata": {
        "colab": {
          "base_uri": "https://localhost:8080/"
        },
        "id": "PDZ2aNZ_xemu",
        "outputId": "96aefb90-8d6c-4191-d968-7de12d13b415"
      },
      "execution_count": 45,
      "outputs": [
        {
          "output_type": "execute_result",
          "data": {
            "text/plain": [
              "['__add__',\n",
              " '__class__',\n",
              " '__contains__',\n",
              " '__delattr__',\n",
              " '__dir__',\n",
              " '__doc__',\n",
              " '__eq__',\n",
              " '__format__',\n",
              " '__ge__',\n",
              " '__getattribute__',\n",
              " '__getitem__',\n",
              " '__getnewargs__',\n",
              " '__getstate__',\n",
              " '__gt__',\n",
              " '__hash__',\n",
              " '__init__',\n",
              " '__init_subclass__',\n",
              " '__iter__',\n",
              " '__le__',\n",
              " '__len__',\n",
              " '__lt__',\n",
              " '__mod__',\n",
              " '__mul__',\n",
              " '__ne__',\n",
              " '__new__',\n",
              " '__reduce__',\n",
              " '__reduce_ex__',\n",
              " '__repr__',\n",
              " '__rmod__',\n",
              " '__rmul__',\n",
              " '__setattr__',\n",
              " '__sizeof__',\n",
              " '__str__',\n",
              " '__subclasshook__',\n",
              " 'capitalize',\n",
              " 'casefold',\n",
              " 'center',\n",
              " 'count',\n",
              " 'encode',\n",
              " 'endswith',\n",
              " 'expandtabs',\n",
              " 'find',\n",
              " 'format',\n",
              " 'format_map',\n",
              " 'index',\n",
              " 'isalnum',\n",
              " 'isalpha',\n",
              " 'isascii',\n",
              " 'isdecimal',\n",
              " 'isdigit',\n",
              " 'isidentifier',\n",
              " 'islower',\n",
              " 'isnumeric',\n",
              " 'isprintable',\n",
              " 'isspace',\n",
              " 'istitle',\n",
              " 'isupper',\n",
              " 'join',\n",
              " 'ljust',\n",
              " 'lower',\n",
              " 'lstrip',\n",
              " 'maketrans',\n",
              " 'partition',\n",
              " 'removeprefix',\n",
              " 'removesuffix',\n",
              " 'replace',\n",
              " 'rfind',\n",
              " 'rindex',\n",
              " 'rjust',\n",
              " 'rpartition',\n",
              " 'rsplit',\n",
              " 'rstrip',\n",
              " 'split',\n",
              " 'splitlines',\n",
              " 'startswith',\n",
              " 'strip',\n",
              " 'swapcase',\n",
              " 'title',\n",
              " 'translate',\n",
              " 'upper',\n",
              " 'zfill']"
            ]
          },
          "metadata": {},
          "execution_count": 45
        }
      ]
    },
    {
      "cell_type": "code",
      "source": [
        "t = tuple('lupins')  # 'lupins'라는 문자열을 튜플로 변환\n",
        "print(t)\n",
        "t = ('a', 'b', 'c', 'd', 'e')  # 튜플을 새로 할당\n",
        "print(t)\n",
        "print(t[0])  # 첫 번째 요소 출력\n",
        "print(t[1:3])  # 1번 인덱스부터 3번 인덱스 직전까지의 요소 출력\n",
        "#t[0] = 'A'  # 오류 발생\n",
        "t = ('A',) + t[1:]  # 튜플의 첫 번째 값을 'A'로 바꾸기\n"
      ],
      "metadata": {
        "colab": {
          "base_uri": "https://localhost:8080/"
        },
        "id": "pStKXpsEymhj",
        "outputId": "df330eb4-607e-420b-b1fb-48341b0179fa"
      },
      "execution_count": 51,
      "outputs": [
        {
          "output_type": "stream",
          "name": "stdout",
          "text": [
            "('l', 'u', 'p', 'i', 'n', 's')\n",
            "('a', 'b', 'c', 'd', 'e')\n",
            "a\n",
            "('b', 'c')\n"
          ]
        }
      ]
    },
    {
      "cell_type": "code",
      "source": [
        "t = (1,\"CA\")"
      ],
      "metadata": {
        "id": "yefmHwM527lI"
      },
      "execution_count": 52,
      "outputs": []
    },
    {
      "cell_type": "code",
      "source": [
        "cheeses = ['Cheddar', 'Edam', 'Gouda']\n",
        "numbers = [17, 123]\n",
        "empty = []\n",
        "print(cheeses, numbers, empty)\n"
      ],
      "metadata": {
        "colab": {
          "base_uri": "https://localhost:8080/"
        },
        "id": "aILm8XRg3Zo-",
        "outputId": "06d48d6b-2dff-4e88-b945-e63b3dd4e759"
      },
      "execution_count": 53,
      "outputs": [
        {
          "output_type": "stream",
          "name": "stdout",
          "text": [
            "['Cheddar', 'Edam', 'Gouda'] [17, 123] []\n"
          ]
        }
      ]
    },
    {
      "cell_type": "code",
      "source": [
        "cheeses = ['Cheddar', 'Edam', 'Gouda']\n",
        "print(cheeses[0])  # 첫 번째 치즈 출력\n",
        "'Edam' in cheeses  # 'Edam'이 cheeses에 있는지 확인\n",
        "'Brie' in cheeses  # 'Brie'가 cheeses에 있는지 확인\n",
        "\n",
        "numbers = [17, 123]\n",
        "numbers[1] = 5  # numbers 리스트의 두 번째 요소 변경\n",
        "print(numbers)  # 변경된 numbers 리스트 출력\n"
      ],
      "metadata": {
        "colab": {
          "base_uri": "https://localhost:8080/"
        },
        "id": "VzWc58IT3kWz",
        "outputId": "7e19f340-48f0-41ae-ebb7-d7fd4df281db"
      },
      "execution_count": 57,
      "outputs": [
        {
          "output_type": "stream",
          "name": "stdout",
          "text": [
            "Cheddar\n",
            "[17, 5]\n"
          ]
        }
      ]
    },
    {
      "cell_type": "code",
      "source": [
        "a = [1, 2, 3]  # 리스트 a\n",
        "b = [4, 5, 6]  # 리스트 b\n",
        "c = a + b  # 리스트 a와 b를 합침\n",
        "print(c)  # 리스트 c 출력\n"
      ],
      "metadata": {
        "colab": {
          "base_uri": "https://localhost:8080/"
        },
        "id": "o4iIO8BC34sO",
        "outputId": "caab0f05-c911-40b0-d7a1-451a52c05559"
      },
      "execution_count": 58,
      "outputs": [
        {
          "output_type": "stream",
          "name": "stdout",
          "text": [
            "[1, 2, 3, 4, 5, 6]\n"
          ]
        }
      ]
    },
    {
      "cell_type": "code",
      "source": [
        "import numpy as np"
      ],
      "metadata": {
        "id": "amue76bi371p"
      },
      "execution_count": 59,
      "outputs": []
    },
    {
      "cell_type": "code",
      "source": [
        "a_np=np.array(a)\n",
        "b_np=np.array(b)\n",
        "print(a_np+b_np)"
      ],
      "metadata": {
        "colab": {
          "base_uri": "https://localhost:8080/"
        },
        "id": "PkH13AJa39TO",
        "outputId": "4509283f-e029-4684-9470-820a1cf185af"
      },
      "execution_count": 60,
      "outputs": [
        {
          "output_type": "stream",
          "name": "stdout",
          "text": [
            "[5 7 9]\n"
          ]
        }
      ]
    },
    {
      "cell_type": "code",
      "source": [
        "t1 = ['a', 'b', 'c']  # 리스트 t1\n",
        "t2 = ['d', 'e']       # 리스트 t2\n",
        "t1.extend(t2)         # t1에 t2의 요소들을 추가 t1=t1+t2\n",
        "print(t1)             # t1 출력\n"
      ],
      "metadata": {
        "colab": {
          "base_uri": "https://localhost:8080/"
        },
        "id": "Ig2twirK4en6",
        "outputId": "dbb50f41-5a1b-493f-955d-2a935dd9e439"
      },
      "execution_count": 61,
      "outputs": [
        {
          "output_type": "stream",
          "name": "stdout",
          "text": [
            "['a', 'b', 'c', 'd', 'e']\n"
          ]
        }
      ]
    },
    {
      "cell_type": "code",
      "source": [
        "t1 = ['a', 'b', 'c']  # 리스트 t1\n",
        "t2 = ['d', 'e']       # 리스트 t2\n",
        "t1.append(t2)         # t1에 t2의 요소들을 추가 t1=t1+t2\n",
        "print(t1)             # t1 출력\n"
      ],
      "metadata": {
        "colab": {
          "base_uri": "https://localhost:8080/"
        },
        "id": "U8If3si24itS",
        "outputId": "cf2ade1a-f135-4d9f-fa67-0f53586b4580"
      },
      "execution_count": 62,
      "outputs": [
        {
          "output_type": "stream",
          "name": "stdout",
          "text": [
            "['a', 'b', 'c', ['d', 'e']]\n"
          ]
        }
      ]
    },
    {
      "cell_type": "code",
      "source": [
        "nums=np.array([1,2,3,34])\n",
        "np.sum(nums)\n",
        "np.mean(nums)\n"
      ],
      "metadata": {
        "colab": {
          "base_uri": "https://localhost:8080/"
        },
        "id": "rL5tqDB35fhe",
        "outputId": "b890f3f1-1a6e-499b-a470-879ebf2c9e98"
      },
      "execution_count": 65,
      "outputs": [
        {
          "output_type": "execute_result",
          "data": {
            "text/plain": [
              "np.float64(10.0)"
            ]
          },
          "metadata": {},
          "execution_count": 65
        }
      ]
    },
    {
      "cell_type": "code",
      "source": [
        "my_dict = {'name':'Jack', 'age': 26}\n",
        "print(my_dict['name'])  # 딕셔너리에서 'name' 키에 해당하는 값 출력\n",
        "print(my_dict.get('age'))  # 딕셔너리에서 'age' 키에 해당하는 값 출력\n",
        "my_dict.get('height') # 문제 없음, 오류\n",
        "my_dict['height'] # 문제 있음, 오류\n"
      ],
      "metadata": {
        "colab": {
          "base_uri": "https://localhost:8080/",
          "height": 221
        },
        "id": "-XWw68qf7mvz",
        "outputId": "e868454f-31e4-488e-81b8-4c1a39f6dc0a"
      },
      "execution_count": 69,
      "outputs": [
        {
          "output_type": "stream",
          "name": "stdout",
          "text": [
            "Jack\n",
            "26\n"
          ]
        },
        {
          "output_type": "error",
          "ename": "KeyError",
          "evalue": "'height'",
          "traceback": [
            "\u001b[0;31m---------------------------------------------------------------------------\u001b[0m",
            "\u001b[0;31mKeyError\u001b[0m                                  Traceback (most recent call last)",
            "\u001b[0;32m/tmp/ipython-input-3859712619.py\u001b[0m in \u001b[0;36m<cell line: 0>\u001b[0;34m()\u001b[0m\n\u001b[1;32m      3\u001b[0m \u001b[0mprint\u001b[0m\u001b[0;34m(\u001b[0m\u001b[0mmy_dict\u001b[0m\u001b[0;34m.\u001b[0m\u001b[0mget\u001b[0m\u001b[0;34m(\u001b[0m\u001b[0;34m'age'\u001b[0m\u001b[0;34m)\u001b[0m\u001b[0;34m)\u001b[0m  \u001b[0;31m# 딕셔너리에서 'age' 키에 해당하는 값 출력\u001b[0m\u001b[0;34m\u001b[0m\u001b[0;34m\u001b[0m\u001b[0m\n\u001b[1;32m      4\u001b[0m \u001b[0mmy_dict\u001b[0m\u001b[0;34m.\u001b[0m\u001b[0mget\u001b[0m\u001b[0;34m(\u001b[0m\u001b[0;34m'height'\u001b[0m\u001b[0;34m)\u001b[0m \u001b[0;31m# 문제 없음, 오류\u001b[0m\u001b[0;34m\u001b[0m\u001b[0;34m\u001b[0m\u001b[0m\n\u001b[0;32m----> 5\u001b[0;31m \u001b[0mmy_dict\u001b[0m\u001b[0;34m[\u001b[0m\u001b[0;34m'height'\u001b[0m\u001b[0;34m]\u001b[0m \u001b[0;31m# 문제 있음, 오류\u001b[0m\u001b[0;34m\u001b[0m\u001b[0;34m\u001b[0m\u001b[0m\n\u001b[0m",
            "\u001b[0;31mKeyError\u001b[0m: 'height'"
          ]
        }
      ]
    },
    {
      "cell_type": "code",
      "source": [
        "# update value\n",
        "my_dict['age'] = 27  # 'age' 키의 값을 27로 업데이트\n",
        "print(my_dict)  # 업데이트된 딕셔너리 출력\n",
        "\n",
        "# add item\n",
        "my_dict['address'] = 'Downtown'  # 새로운 키 'address'를 추가하고 값 'Downtown' 할당\n",
        "print(my_dict)  # 새로운 항목을 추가한 딕셔너리 출력"
      ],
      "metadata": {
        "colab": {
          "base_uri": "https://localhost:8080/"
        },
        "id": "oPCwus6x8CmR",
        "outputId": "1a3037c5-fcc2-4020-b4f0-c2aed79a922c"
      },
      "execution_count": 70,
      "outputs": [
        {
          "output_type": "stream",
          "name": "stdout",
          "text": [
            "{'name': 'Jack', 'age': 27}\n",
            "{'name': 'Jack', 'age': 27, 'address': 'Downtown'}\n"
          ]
        }
      ]
    },
    {
      "cell_type": "code",
      "source": [
        "eng2sp = {'one': 'uno', 'two': 'dos', 'three': 'tres'}\n",
        "print(eng2sp)  # 딕셔너리 출력\n",
        "print(eng2sp['two'])  # 'two' 키에 해당하는 값 출력\n",
        "#print(eng2sp['four'])  # 'four' 키에 대한 접근 (키가 없어서 오류 발생)\n",
        "\n",
        "# Membership Operation\n",
        "'one' in eng2sp  # 'one' 키가 딕셔너리에 있는지 확인\n",
        "'uno' in eng2sp  # 'uno' 값이 딕셔너리의 키로 존재하는지 확인\n",
        "vals = list(eng2sp.values())  # 딕셔너리의 모든 값을 리스트로 변환\n",
        "print(vals)\n",
        "'uno' in vals"
      ],
      "metadata": {
        "colab": {
          "base_uri": "https://localhost:8080/"
        },
        "id": "YDx5kWyk8coj",
        "outputId": "a48befbd-76bb-4bc4-d72a-5997be25d2c9"
      },
      "execution_count": 76,
      "outputs": [
        {
          "output_type": "stream",
          "name": "stdout",
          "text": [
            "{'one': 'uno', 'two': 'dos', 'three': 'tres'}\n",
            "dos\n",
            "['uno', 'dos', 'tres']\n"
          ]
        },
        {
          "output_type": "execute_result",
          "data": {
            "text/plain": [
              "True"
            ]
          },
          "metadata": {},
          "execution_count": 76
        }
      ]
    }
  ]
}