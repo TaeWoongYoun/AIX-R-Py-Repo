{
  "nbformat": 4,
  "nbformat_minor": 0,
  "metadata": {
    "colab": {
      "provenance": []
    },
    "kernelspec": {
      "name": "python3",
      "display_name": "Python 3"
    },
    "language_info": {
      "name": "python"
    }
  },
  "cells": [
    {
      "cell_type": "code",
      "execution_count": 1,
      "metadata": {
        "id": "XWAWHQFNrkRf"
      },
      "outputs": [],
      "source": [
        "import numpy as np"
      ]
    },
    {
      "cell_type": "code",
      "source": [
        "a=np.array([1,2,3])\n",
        "b=np.array([3,1,2])\n",
        "\n",
        "a>b"
      ],
      "metadata": {
        "colab": {
          "base_uri": "https://localhost:8080/"
        },
        "id": "juUaQ181tlRH",
        "outputId": "54762847-9429-45c4-c748-30f0679b1a57"
      },
      "execution_count": 3,
      "outputs": [
        {
          "output_type": "execute_result",
          "data": {
            "text/plain": [
              "array([False,  True,  True])"
            ]
          },
          "metadata": {},
          "execution_count": 3
        }
      ]
    },
    {
      "cell_type": "code",
      "source": [
        "x=3\n",
        "y=2\n",
        "x==y\n"
      ],
      "metadata": {
        "colab": {
          "base_uri": "https://localhost:8080/"
        },
        "id": "aFuDxBjVt9R9",
        "outputId": "154daeb0-aeb9-47f0-fefe-0756b7c2e903"
      },
      "execution_count": 6,
      "outputs": [
        {
          "output_type": "execute_result",
          "data": {
            "text/plain": [
              "False"
            ]
          },
          "metadata": {},
          "execution_count": 6
        }
      ]
    },
    {
      "cell_type": "code",
      "source": [
        "num = 2\n",
        "\n",
        "if num > 0:\n",
        "    print(num, \"is a positive number.\")\n",
        "    if num==3:\n",
        "        print(\"Condition is satisfied\")\n",
        "\n",
        "print(\"This is always printed.\")"
      ],
      "metadata": {
        "colab": {
          "base_uri": "https://localhost:8080/"
        },
        "id": "QcKHLEPIt-bF",
        "outputId": "f1675137-c5c3-4bba-b35b-3bc1ea39d04e"
      },
      "execution_count": 13,
      "outputs": [
        {
          "output_type": "stream",
          "name": "stdout",
          "text": [
            "2 is a positive number.\n",
            "This is always printed.\n"
          ]
        }
      ]
    },
    {
      "cell_type": "code",
      "source": [
        "num = -1\n",
        "if num > 0:\n",
        "    print(num, \"is a positive number.\")\n",
        "    print(\"Condition is satisfied\")\n",
        "print(\"This is also always printed.\")"
      ],
      "metadata": {
        "colab": {
          "base_uri": "https://localhost:8080/"
        },
        "id": "6Cs_12NTuvgB",
        "outputId": "3190937d-7493-4b29-9994-f244266c29d4"
      },
      "execution_count": 10,
      "outputs": [
        {
          "output_type": "stream",
          "name": "stdout",
          "text": [
            "This is also always printed.\n"
          ]
        }
      ]
    },
    {
      "cell_type": "code",
      "source": [
        "num = -1\n",
        "\n",
        "if num >= 0:\n",
        "    print(\"Positive or Zero\")\n",
        "else:\n",
        "    print(\"Negative number\")\n"
      ],
      "metadata": {
        "colab": {
          "base_uri": "https://localhost:8080/"
        },
        "id": "ajF5LzazvluB",
        "outputId": "51062b9b-f55b-49d3-c1fb-39dfd5917e55"
      },
      "execution_count": 15,
      "outputs": [
        {
          "output_type": "stream",
          "name": "stdout",
          "text": [
            "Negative number\n"
          ]
        }
      ]
    },
    {
      "cell_type": "code",
      "source": [
        "num = 6\n",
        "\n",
        "if num > 3:\n",
        "    print(\"Large\")\n",
        "elif num>5: # 실제 쓰면 안되는 코딩\n",
        "    print(\"Small\")\n",
        "elif num == 0:\n",
        "    print(\"Zero\")\n",
        "else:\n",
        "    print(\"Negative\")\n"
      ],
      "metadata": {
        "colab": {
          "base_uri": "https://localhost:8080/"
        },
        "id": "cSgj3NC4vzSf",
        "outputId": "ffb8d31a-ba53-497f-de6a-713deda0d125"
      },
      "execution_count": 21,
      "outputs": [
        {
          "output_type": "stream",
          "name": "stdout",
          "text": [
            "Large\n"
          ]
        }
      ]
    },
    {
      "cell_type": "code",
      "source": [
        "A=\"Being\"\n",
        "\n",
        "try:\n",
        "    int(A)\n",
        "    print(A)\n",
        "except:\n",
        "    print(\"Not a number\")"
      ],
      "metadata": {
        "colab": {
          "base_uri": "https://localhost:8080/"
        },
        "id": "zrm_RWeQxMvj",
        "outputId": "27b4ce7a-aa89-4683-aa9d-a03e66f8ed0f"
      },
      "execution_count": 26,
      "outputs": [
        {
          "output_type": "stream",
          "name": "stdout",
          "text": [
            "Not a number\n"
          ]
        }
      ]
    },
    {
      "cell_type": "code",
      "source": [
        "A=True\n",
        "B=False\n",
        "not (A and B)"
      ],
      "metadata": {
        "colab": {
          "base_uri": "https://localhost:8080/"
        },
        "id": "SxH4co-Jx7RW",
        "outputId": "c5565893-57a2-4737-e2f3-3ea6418704d5"
      },
      "execution_count": 28,
      "outputs": [
        {
          "output_type": "execute_result",
          "data": {
            "text/plain": [
              "True"
            ]
          },
          "metadata": {},
          "execution_count": 28
        }
      ]
    },
    {
      "cell_type": "code",
      "source": [
        "height=150\n",
        "grade=90\n",
        "\n",
        "if height>170 and grade>80:\n",
        "  print(\"Smart and Tall\")\n",
        "else:\n",
        "  print(\"Not [Smart and  Tall]\")"
      ],
      "metadata": {
        "colab": {
          "base_uri": "https://localhost:8080/"
        },
        "id": "VrqGe4NyyGSV",
        "outputId": "439e3c39-faa2-41a1-d549-592d6262d675"
      },
      "execution_count": 30,
      "outputs": [
        {
          "output_type": "stream",
          "name": "stdout",
          "text": [
            "Not [Smart and  Tall]\n"
          ]
        }
      ]
    },
    {
      "cell_type": "code",
      "source": [
        "# List of numbers\n",
        "numbers = [6, 5, 3, 8, 4, 2, 5, 4, 11]\n",
        "\n",
        "# variable to store the sum\n",
        "sum = 0\n",
        "\n",
        "# iterate over the list\n",
        "for val in numbers:\n",
        "    print(\"The value is\", val)\n",
        "    sum = sum + val\n",
        "    print(\"The sum up to now is\", sum)\n",
        "\n",
        "print(\"The sum is\", sum)\n"
      ],
      "metadata": {
        "colab": {
          "base_uri": "https://localhost:8080/"
        },
        "id": "FSt4tRhVyilY",
        "outputId": "fd4235e3-7d6a-404c-9439-2bd19e4a78a2"
      },
      "execution_count": 32,
      "outputs": [
        {
          "output_type": "stream",
          "name": "stdout",
          "text": [
            "The value is 6\n",
            "The sum up to now is 6\n",
            "The value is 5\n",
            "The sum up to now is 11\n",
            "The value is 3\n",
            "The sum up to now is 14\n",
            "The value is 8\n",
            "The sum up to now is 22\n",
            "The value is 4\n",
            "The sum up to now is 26\n",
            "The value is 2\n",
            "The sum up to now is 28\n",
            "The value is 5\n",
            "The sum up to now is 33\n",
            "The value is 4\n",
            "The sum up to now is 37\n",
            "The value is 11\n",
            "The sum up to now is 48\n",
            "The sum is 48\n"
          ]
        }
      ]
    },
    {
      "cell_type": "code",
      "source": [
        "# List of numbers\n",
        "strings = [\"pop\",\"rock\",\"jazz\"]\n",
        "strings2 = [\"pizza\",\"pasta\",\"salad\"]\n",
        "\n",
        "# iterate over the list\n",
        "for string in strings:\n",
        "    print(\"The string is\", string)\n",
        "# 일반적으로 좋은 경우\n",
        "for ii in range(len(strings)):\n",
        "    print(\"The string is\", strings[ii])\n",
        "    print(\"The food is\", strings2[ii])\n"
      ],
      "metadata": {
        "colab": {
          "base_uri": "https://localhost:8080/"
        },
        "id": "6If-PGGHz6uN",
        "outputId": "f3af7239-8aed-45b4-eeb2-90b07b390b40"
      },
      "execution_count": 36,
      "outputs": [
        {
          "output_type": "stream",
          "name": "stdout",
          "text": [
            "The string is pop\n",
            "The string is rock\n",
            "The string is jazz\n",
            "The string is pop\n",
            "The food is pizza\n",
            "The string is rock\n",
            "The food is pasta\n",
            "The string is jazz\n",
            "The food is salad\n"
          ]
        }
      ]
    },
    {
      "cell_type": "code",
      "source": [
        "# Using enumerate with a start index\n",
        "for index, value in enumerate(numbers, start=1):\n",
        "    print(f\"Index: {index}, Value: {value}\")\n",
        "\n",
        "# Two lists\n",
        "names = [\"Alice\", \"Bob\", \"Charlie\"]\n",
        "scores = [85, 90, 88]\n",
        "\n",
        "# Using zip to iterate over both lists\n",
        "for name, score in zip(names, scores):\n",
        "    print(f\"{name} scored {score}\")\n"
      ],
      "metadata": {
        "colab": {
          "base_uri": "https://localhost:8080/"
        },
        "id": "2dvRoFNL1YRf",
        "outputId": "1171bff0-fd06-4373-e524-307633daafa5"
      },
      "execution_count": 37,
      "outputs": [
        {
          "output_type": "stream",
          "name": "stdout",
          "text": [
            "Index: 1, Value: 6\n",
            "Index: 2, Value: 5\n",
            "Index: 3, Value: 3\n",
            "Index: 4, Value: 8\n",
            "Index: 5, Value: 4\n",
            "Index: 6, Value: 2\n",
            "Index: 7, Value: 5\n",
            "Index: 8, Value: 4\n",
            "Index: 9, Value: 11\n",
            "Alice scored 85\n",
            "Bob scored 90\n",
            "Charlie scored 88\n"
          ]
        }
      ]
    },
    {
      "cell_type": "code",
      "source": [
        "n = 10\n",
        "\n",
        "# initialize sum and counter\n",
        "sum = 0\n",
        "i = 1\n",
        "\n",
        "while i <= n:\n",
        "    sum = sum + i  # Add i to sum\n",
        "    i = i + 1      # Increment the counter\n",
        "\n",
        "# print the sum\n",
        "print(\"The sum is\", sum)\n",
        "i\n"
      ],
      "metadata": {
        "colab": {
          "base_uri": "https://localhost:8080/"
        },
        "id": "i4d1dXpv15Bu",
        "outputId": "b751f90b-d2eb-4bb9-d105-368fa90da5d3"
      },
      "execution_count": 40,
      "outputs": [
        {
          "output_type": "stream",
          "name": "stdout",
          "text": [
            "The sum is 55\n"
          ]
        },
        {
          "output_type": "execute_result",
          "data": {
            "text/plain": [
              "11"
            ]
          },
          "metadata": {},
          "execution_count": 40
        }
      ]
    },
    {
      "cell_type": "code",
      "source": [
        "scores = [85, 90, 88]\n",
        "scores[1]"
      ],
      "metadata": {
        "colab": {
          "base_uri": "https://localhost:8080/"
        },
        "id": "lt0CIi7d3glL",
        "outputId": "a0e9d5c1-f1a8-461c-b5b0-9b727557d62f"
      },
      "execution_count": 41,
      "outputs": [
        {
          "output_type": "execute_result",
          "data": {
            "text/plain": [
              "90"
            ]
          },
          "metadata": {},
          "execution_count": 41
        }
      ]
    },
    {
      "cell_type": "code",
      "source": [
        "import numpy as np\n",
        "A=[[1,2,3],[4,5,6]]\n",
        "A_np=np.array(A)\n",
        "A_np\n",
        "\n",
        "for ii in range(2): # range(2)=[0,1]\n",
        "  if ii==1:\n",
        "    break\n",
        "  for jj in range(3):# range(3)=[0,1,2]\n",
        "    print(A_np[ii,jj])\n",
        "    if jj==1:\n",
        "      break"
      ],
      "metadata": {
        "colab": {
          "base_uri": "https://localhost:8080/"
        },
        "id": "2C2tL6n24TqH",
        "outputId": "ce0c15a0-f53e-428b-bac2-8fc7c32dbf61"
      },
      "execution_count": 50,
      "outputs": [
        {
          "output_type": "stream",
          "name": "stdout",
          "text": [
            "1\n",
            "2\n"
          ]
        }
      ]
    },
    {
      "cell_type": "code",
      "source": [
        "for val in \"string\":\n",
        "    if val == \"i\":\n",
        "        #continue\n",
        "        #break\n",
        "    print(val)\n",
        "\n",
        "print(\"The end\")\n"
      ],
      "metadata": {
        "colab": {
          "base_uri": "https://localhost:8080/"
        },
        "id": "piRmXDow6HE-",
        "outputId": "7d00caf8-18db-4b83-f6a6-d4cab5ac6a4c"
      },
      "execution_count": 52,
      "outputs": [
        {
          "output_type": "stream",
          "name": "stdout",
          "text": [
            "s\n",
            "t\n",
            "r\n",
            "The end\n"
          ]
        }
      ]
    },
    {
      "cell_type": "code",
      "source": [
        "def greet(name):\n",
        "    \"\"\"This function greets to\n",
        "    the person passed in as\n",
        "    parameter\"\"\"\n",
        "    print(\"Hello, \" + name + \". Good morning!\")\n",
        "\n",
        "greet('Paul')\n",
        "greet(\"John\")"
      ],
      "metadata": {
        "colab": {
          "base_uri": "https://localhost:8080/"
        },
        "id": "vg1-bst_6wAa",
        "outputId": "85f5df35-4455-4022-fff9-ea160e2cea21"
      },
      "execution_count": 54,
      "outputs": [
        {
          "output_type": "stream",
          "name": "stdout",
          "text": [
            "Hello, Paul. Good morning!\n",
            "Hello, John. Good morning!\n"
          ]
        }
      ]
    },
    {
      "cell_type": "code",
      "source": [
        "def absolute_value(num):\n",
        "    \"\"\"이 함수는 입력된 숫자의 절댓값을 반환합니다.\"\"\"\n",
        "\n",
        "    if num >= 0:\n",
        "        # 숫자가 0 이상이면 그대로 반환\n",
        "        output= num\n",
        "    else:\n",
        "        # 숫자가 음수이면 양수로 바꿔서 반환\n",
        "        output= -num\n",
        "    return output"
      ],
      "metadata": {
        "id": "brIqo2Jw7DEt"
      },
      "execution_count": 55,
      "outputs": []
    },
    {
      "cell_type": "code",
      "source": [
        "absolute_value(3)"
      ],
      "metadata": {
        "colab": {
          "base_uri": "https://localhost:8080/"
        },
        "id": "2wBz046D7RHd",
        "outputId": "04e3da01-d29b-4c6e-c887-52ddf045c605"
      },
      "execution_count": 57,
      "outputs": [
        {
          "output_type": "execute_result",
          "data": {
            "text/plain": [
              "3"
            ]
          },
          "metadata": {},
          "execution_count": 57
        }
      ]
    },
    {
      "cell_type": "code",
      "source": [
        "#my_func(3)\n",
        "# 원칙적으로 함수 안에서 정의된 값은 밖으로 나가지 않는다.\n",
        "def my_func():\n",
        "    x = 10  # 함수 내에서 정의된 지역 변수\n",
        "    print(\"Value inside function:\", x)\n",
        "\n",
        "\n"
      ],
      "metadata": {
        "colab": {
          "base_uri": "https://localhost:8080/"
        },
        "id": "NSx_wSHy7joN",
        "outputId": "9a66b645-1e97-4ee2-9ea6-a827a0369fb2"
      },
      "execution_count": 59,
      "outputs": [
        {
          "output_type": "stream",
          "name": "stdout",
          "text": [
            "Value inside function: 10\n",
            "Value outside function: 20\n"
          ]
        }
      ]
    },
    {
      "cell_type": "code",
      "source": [
        "x = 20  # 전역 변수\n",
        "my_func()  # 함수 호출\n",
        "print(\"Value outside function:\", x)  # 전역 변수 출력"
      ],
      "metadata": {
        "colab": {
          "base_uri": "https://localhost:8080/"
        },
        "id": "f8HxrYOk72dK",
        "outputId": "4d4c0194-e8a4-4aef-ea49-01ceb9ab9c02"
      },
      "execution_count": 60,
      "outputs": [
        {
          "output_type": "stream",
          "name": "stdout",
          "text": [
            "Value inside function: 10\n",
            "Value outside function: 20\n"
          ]
        }
      ]
    },
    {
      "cell_type": "code",
      "source": [
        "def greet(name, msg):\n",
        "    \"\"\"This function greets to the person with the provided message\"\"\"\n",
        "    print(\"Hello\", name + ', ' + msg)\n",
        "\n",
        "greet(\"Monica\", \"Good morning!\")\n"
      ],
      "metadata": {
        "colab": {
          "base_uri": "https://localhost:8080/"
        },
        "id": "rQLZZvsu8Hix",
        "outputId": "249064c0-e488-4b14-fa86-d7f0005091aa"
      },
      "execution_count": 61,
      "outputs": [
        {
          "output_type": "stream",
          "name": "stdout",
          "text": [
            "Hello Monica, Good morning!\n"
          ]
        }
      ]
    },
    {
      "cell_type": "code",
      "source": [
        "def add_and_subtract(a, b):\n",
        "    \"\"\"두 수의 합과 차를 반환하는 함수\"\"\"\n",
        "    sum_result = a + b\n",
        "    diff_result = a - b\n",
        "    return sum_result, diff_result  # 두 값을 튜플로 반환\n",
        "\n",
        "result_sum, result_diff = add_and_subtract(10, 5)\n",
        "\n",
        "print(\"Sum:\", result_sum)      # 출력: Sum: 15\n",
        "print(\"Difference:\", result_diff)  # 출력: Difference: 5\n"
      ],
      "metadata": {
        "colab": {
          "base_uri": "https://localhost:8080/"
        },
        "id": "EkBwF_OR8WxW",
        "outputId": "92ea534e-fc4f-4c60-915e-f67c6a221933"
      },
      "execution_count": 62,
      "outputs": [
        {
          "output_type": "stream",
          "name": "stdout",
          "text": [
            "Sum: 15\n",
            "Difference: 5\n"
          ]
        }
      ]
    },
    {
      "cell_type": "code",
      "source": [
        "def greet(name, msg = \"Good morning!\"):\n",
        "    print(\"Hello\", name + ', ' + msg)\n",
        "\n",
        "greet(\"Kate\")\n",
        "greet(\"Bruce\", \"How do you do?\")\n"
      ],
      "metadata": {
        "colab": {
          "base_uri": "https://localhost:8080/"
        },
        "id": "Zh-21z-d8o0U",
        "outputId": "df68a8ee-7a78-40aa-f0a3-601630ac4c88"
      },
      "execution_count": 63,
      "outputs": [
        {
          "output_type": "stream",
          "name": "stdout",
          "text": [
            "Hello Kate, Good morning!\n",
            "Hello Bruce, How do you do?\n"
          ]
        }
      ]
    },
    {
      "cell_type": "code",
      "source": [
        "def greet(name, msg ):\n",
        "    print(\"Hello\", name + ', ' + msg)\n",
        "\n",
        "greet(\"Kate\")\n",
        "greet(\"Bruce\", \"How do you do?\")"
      ],
      "metadata": {
        "colab": {
          "base_uri": "https://localhost:8080/",
          "height": 204
        },
        "id": "j8zAPoec80DE",
        "outputId": "710ed093-22d3-49df-ed29-ac06df760b88"
      },
      "execution_count": 66,
      "outputs": [
        {
          "output_type": "error",
          "ename": "TypeError",
          "evalue": "greet() missing 1 required positional argument: 'msg'",
          "traceback": [
            "\u001b[0;31m---------------------------------------------------------------------------\u001b[0m",
            "\u001b[0;31mTypeError\u001b[0m                                 Traceback (most recent call last)",
            "\u001b[0;32m/tmp/ipython-input-2247440834.py\u001b[0m in \u001b[0;36m<cell line: 0>\u001b[0;34m()\u001b[0m\n\u001b[1;32m      2\u001b[0m     \u001b[0mprint\u001b[0m\u001b[0;34m(\u001b[0m\u001b[0;34m\"Hello\"\u001b[0m\u001b[0;34m,\u001b[0m \u001b[0mname\u001b[0m \u001b[0;34m+\u001b[0m \u001b[0;34m', '\u001b[0m \u001b[0;34m+\u001b[0m \u001b[0mmsg\u001b[0m\u001b[0;34m)\u001b[0m\u001b[0;34m\u001b[0m\u001b[0;34m\u001b[0m\u001b[0m\n\u001b[1;32m      3\u001b[0m \u001b[0;34m\u001b[0m\u001b[0m\n\u001b[0;32m----> 4\u001b[0;31m \u001b[0mgreet\u001b[0m\u001b[0;34m(\u001b[0m\u001b[0;34m\"Kate\"\u001b[0m\u001b[0;34m)\u001b[0m\u001b[0;34m\u001b[0m\u001b[0;34m\u001b[0m\u001b[0m\n\u001b[0m\u001b[1;32m      5\u001b[0m \u001b[0mgreet\u001b[0m\u001b[0;34m(\u001b[0m\u001b[0;34m\"Bruce\"\u001b[0m\u001b[0;34m,\u001b[0m \u001b[0;34m\"How do you do?\"\u001b[0m\u001b[0;34m)\u001b[0m\u001b[0;34m\u001b[0m\u001b[0;34m\u001b[0m\u001b[0m\n",
            "\u001b[0;31mTypeError\u001b[0m: greet() missing 1 required positional argument: 'msg'"
          ]
        }
      ]
    },
    {
      "cell_type": "code",
      "source": [
        "# 2 keyword arguments\n",
        "greet(name = \"Bruce\", msg = \"How do you do?\")\n",
        "\n",
        "# 2 keyword arguments (out of order)\n",
        "greet(msg = \"How do you do?\", name = \"Bruce\")\n",
        "\n",
        "\n",
        "# 1 positional, 1 keyword argument\n",
        "greet(\"Bruce\", msg = \"How do you do?\")"
      ],
      "metadata": {
        "colab": {
          "base_uri": "https://localhost:8080/"
        },
        "id": "v1pTEaM79d9N",
        "outputId": "617130ac-cc66-491f-8d79-e4e5a6e967de"
      },
      "execution_count": 68,
      "outputs": [
        {
          "output_type": "stream",
          "name": "stdout",
          "text": [
            "Hello Bruce, How do you do?\n",
            "Hello Bruce, How do you do?\n",
            "Hello Bruce, How do you do?\n"
          ]
        }
      ]
    },
    {
      "cell_type": "code",
      "source": [
        "# keyword arguments first\n",
        "greet(msg = \"How do you do?\",\"Bruce\")"
      ],
      "metadata": {
        "colab": {
          "base_uri": "https://localhost:8080/",
          "height": 111
        },
        "id": "g0fw8IVY9ngD",
        "outputId": "7dc0a0a2-535e-47cc-e36c-edd0a4f6e60d"
      },
      "execution_count": 69,
      "outputs": [
        {
          "output_type": "error",
          "ename": "SyntaxError",
          "evalue": "positional argument follows keyword argument (ipython-input-2515860115.py, line 2)",
          "traceback": [
            "\u001b[0;36m  File \u001b[0;32m\"/tmp/ipython-input-2515860115.py\"\u001b[0;36m, line \u001b[0;32m2\u001b[0m\n\u001b[0;31m    greet(msg = \"How do you do?\",\"Bruce\")\u001b[0m\n\u001b[0m                                        ^\u001b[0m\n\u001b[0;31mSyntaxError\u001b[0m\u001b[0;31m:\u001b[0m positional argument follows keyword argument\n"
          ]
        }
      ]
    },
    {
      "cell_type": "code",
      "source": [
        "x = \"global2\"  # 전역 변수 x 정의\n",
        "y = \"outside\"\n",
        "\n",
        "def foo():\n",
        "    global x  # 전역 변수 x 사용\n",
        "    y = \"local\"  # 함수 내에서 정의된 지역 변수 y\n",
        "    x = x * 2  # 전역 변수 x의 값을 2배로 변경\n",
        "    print(x)  # 변경된 전역 변수 x 출력\n",
        "    print(y)  # 지역 변수 y 출력\n",
        "\n",
        "foo()  # 함수 호출\n",
        "print(x)  # 변경된 전역 변수 x 출력\n",
        "print(y)\n"
      ],
      "metadata": {
        "colab": {
          "base_uri": "https://localhost:8080/"
        },
        "id": "kuy8SaDf-bBs",
        "outputId": "17c0aa83-a8d7-48ef-d502-88d512605e4c"
      },
      "execution_count": 72,
      "outputs": [
        {
          "output_type": "stream",
          "name": "stdout",
          "text": [
            "global2global2\n",
            "local\n",
            "global2global2\n",
            "outside\n"
          ]
        }
      ]
    },
    {
      "cell_type": "code",
      "source": [
        "c = 0  # 전역 변수 c 정의\n",
        "\n",
        "def add():\n",
        "    global c  # 전역 변수 c 사용\n",
        "    c = c + 2  # c 값을 2 증가\n",
        "    print(\"Inside add():\", c)  # 함수 내에서의 c 값 출력\n",
        "\n",
        "add()  # 함수 호출\n",
        "print(\"In main:\", c)  # main 함수에서의 c 값 출력\n"
      ],
      "metadata": {
        "colab": {
          "base_uri": "https://localhost:8080/"
        },
        "id": "Otj9Fnty-9eq",
        "outputId": "d2dcb740-6bb1-4989-84a8-92d9fe00fc9e"
      },
      "execution_count": 73,
      "outputs": [
        {
          "output_type": "stream",
          "name": "stdout",
          "text": [
            "Inside add(): 2\n",
            "In main: 2\n"
          ]
        }
      ]
    },
    {
      "cell_type": "code",
      "source": [
        "c = 0  # 전역 변수 c 정의\n",
        "\n",
        "def add():\n",
        "    # 전역 변수 c 변화 불가\n",
        "    c = c + 2  # c 값을 2 증가\n",
        "    print(\"Inside add():\", c)  # 함수 내에서의 c 값 출력\n",
        "\n",
        "add()  # 함수 호출\n",
        "print(\"In main:\", c)  # main 함수에서의 c 값 출력\n"
      ],
      "metadata": {
        "colab": {
          "base_uri": "https://localhost:8080/",
          "height": 352
        },
        "id": "4m88h-9V_CzN",
        "outputId": "0fcea925-b050-4505-a4d9-48eb8700aa0b"
      },
      "execution_count": 74,
      "outputs": [
        {
          "output_type": "error",
          "ename": "UnboundLocalError",
          "evalue": "cannot access local variable 'c' where it is not associated with a value",
          "traceback": [
            "\u001b[0;31m---------------------------------------------------------------------------\u001b[0m",
            "\u001b[0;31mUnboundLocalError\u001b[0m                         Traceback (most recent call last)",
            "\u001b[0;32m/tmp/ipython-input-913375803.py\u001b[0m in \u001b[0;36m<cell line: 0>\u001b[0;34m()\u001b[0m\n\u001b[1;32m      6\u001b[0m     \u001b[0mprint\u001b[0m\u001b[0;34m(\u001b[0m\u001b[0;34m\"Inside add():\"\u001b[0m\u001b[0;34m,\u001b[0m \u001b[0mc\u001b[0m\u001b[0;34m)\u001b[0m  \u001b[0;31m# 함수 내에서의 c 값 출력\u001b[0m\u001b[0;34m\u001b[0m\u001b[0;34m\u001b[0m\u001b[0m\n\u001b[1;32m      7\u001b[0m \u001b[0;34m\u001b[0m\u001b[0m\n\u001b[0;32m----> 8\u001b[0;31m \u001b[0madd\u001b[0m\u001b[0;34m(\u001b[0m\u001b[0;34m)\u001b[0m  \u001b[0;31m# 함수 호출\u001b[0m\u001b[0;34m\u001b[0m\u001b[0;34m\u001b[0m\u001b[0m\n\u001b[0m\u001b[1;32m      9\u001b[0m \u001b[0mprint\u001b[0m\u001b[0;34m(\u001b[0m\u001b[0;34m\"In main:\"\u001b[0m\u001b[0;34m,\u001b[0m \u001b[0mc\u001b[0m\u001b[0;34m)\u001b[0m  \u001b[0;31m# main 함수에서의 c 값 출력\u001b[0m\u001b[0;34m\u001b[0m\u001b[0;34m\u001b[0m\u001b[0m\n",
            "\u001b[0;32m/tmp/ipython-input-913375803.py\u001b[0m in \u001b[0;36madd\u001b[0;34m()\u001b[0m\n\u001b[1;32m      3\u001b[0m \u001b[0;32mdef\u001b[0m \u001b[0madd\u001b[0m\u001b[0;34m(\u001b[0m\u001b[0;34m)\u001b[0m\u001b[0;34m:\u001b[0m\u001b[0;34m\u001b[0m\u001b[0;34m\u001b[0m\u001b[0m\n\u001b[1;32m      4\u001b[0m     \u001b[0;31m# 전역 변수 c 사용\u001b[0m\u001b[0;34m\u001b[0m\u001b[0;34m\u001b[0m\u001b[0m\n\u001b[0;32m----> 5\u001b[0;31m     \u001b[0mc\u001b[0m \u001b[0;34m=\u001b[0m \u001b[0mc\u001b[0m \u001b[0;34m+\u001b[0m \u001b[0;36m2\u001b[0m  \u001b[0;31m# c 값을 2 증가\u001b[0m\u001b[0;34m\u001b[0m\u001b[0;34m\u001b[0m\u001b[0m\n\u001b[0m\u001b[1;32m      6\u001b[0m     \u001b[0mprint\u001b[0m\u001b[0;34m(\u001b[0m\u001b[0;34m\"Inside add():\"\u001b[0m\u001b[0;34m,\u001b[0m \u001b[0mc\u001b[0m\u001b[0;34m)\u001b[0m  \u001b[0;31m# 함수 내에서의 c 값 출력\u001b[0m\u001b[0;34m\u001b[0m\u001b[0;34m\u001b[0m\u001b[0m\n\u001b[1;32m      7\u001b[0m \u001b[0;34m\u001b[0m\u001b[0m\n",
            "\u001b[0;31mUnboundLocalError\u001b[0m: cannot access local variable 'c' where it is not associated with a value"
          ]
        }
      ]
    },
    {
      "cell_type": "code",
      "source": [
        "c = 0  # 전역 변수 c 정의\n",
        "\n",
        "def add():\n",
        "    x = c + 2  # c 값을 2 증가\n",
        "    print(\"Inside add():\", x)  # 함수 내에서의 c 값 출력\n",
        "\n",
        "add()  # 함수 호출\n",
        "print(\"In main:\", c)  # main 함수에서의 c 값 출력\n"
      ],
      "metadata": {
        "colab": {
          "base_uri": "https://localhost:8080/"
        },
        "id": "PTNFzQEx_NDZ",
        "outputId": "28daf93f-78a4-4240-fa31-85ea68428212"
      },
      "execution_count": 75,
      "outputs": [
        {
          "output_type": "stream",
          "name": "stdout",
          "text": [
            "Inside add(): 2\n",
            "In main: 0\n"
          ]
        }
      ]
    },
    {
      "cell_type": "code",
      "source": [
        "c = 0  # 전역 변수 c 정의\n",
        "\n",
        "def add(c):\n",
        "    x = c + 2  # c 값을 2 증가\n",
        "    print(\"Inside add():\", x)  # 함수 내에서의 c 값 출력\n",
        "\n",
        "add(3)  # 함수 호출\n",
        "print(\"In main:\", c)  # main 함수에서의 c 값 출력\n"
      ],
      "metadata": {
        "colab": {
          "base_uri": "https://localhost:8080/"
        },
        "id": "SICdjhvJ_iU-",
        "outputId": "814561de-cea8-464b-a7be-3e6994e85dd7"
      },
      "execution_count": 76,
      "outputs": [
        {
          "output_type": "stream",
          "name": "stdout",
          "text": [
            "Inside add(): 5\n",
            "In main: 0\n"
          ]
        }
      ]
    }
  ]
}